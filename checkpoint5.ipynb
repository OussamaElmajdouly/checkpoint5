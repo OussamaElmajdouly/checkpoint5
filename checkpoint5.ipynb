{
 "cells": [
  {
   "cell_type": "code",
   "execution_count": 5,
   "id": "8b0da61a",
   "metadata": {},
   "outputs": [
    {
     "name": "stdout",
     "output_type": "stream",
     "text": [
      "donnez les variable 1,2,3\n"
     ]
    }
   ],
   "source": [
    "class point3D:\n",
    "    def __init__(self,x,y,z):\n",
    "        self.x=x\n",
    "        self.y=y\n",
    "        self.z=z\n",
    "    def afficher(self):\n",
    "        return ('donnez les variable {},{},{}'.format(self.x,self.y,self.z))\n",
    "\n",
    "\n",
    "mypoint=point3D(1,2,3)\n",
    "\n",
    "print(mypoint.afficher())"
   ]
  },
  {
   "cell_type": "code",
   "execution_count": 7,
   "id": "319b290c",
   "metadata": {},
   "outputs": [
    {
     "name": "stdout",
     "output_type": "stream",
     "text": [
      "la zone de rectangle est 12 \n",
      "le perimetre est 14\n"
     ]
    }
   ],
   "source": [
    "class rectangle:\n",
    "    def __init__(self,length,width):\n",
    "        self.length=length\n",
    "        self.width=width\n",
    "    def area(self):\n",
    "        return(\" zone de rectangle est {} \".format(self.length*self.width))\n",
    "    def perimete(self):\n",
    "        return(\" perimetre est {}\".format(2*(self.length+self.width)))\n",
    "\n",
    "\n",
    "myrectangle=rectangle(3,4)\n",
    "\n",
    "print(myrectangle.area())\n",
    "print(myrectangle.perimete())"
   ]
  },
  {
   "cell_type": "code",
   "execution_count": 17,
   "id": "10bce12b",
   "metadata": {},
   "outputs": [
    {
     "name": "stdout",
     "output_type": "stream",
     "text": [
      "la zone de circle est 379.94\n",
      "le perimetre est 69.08\n",
      "inside\n"
     ]
    }
   ],
   "source": [
    "class Circle:\n",
    "    def __init__(self,C1,C2,r):\n",
    "        self.C1=C1\n",
    "        self.C2=C2\n",
    "        self.r=r\n",
    "    def area(self):\n",
    "        return(\"la zone de circle est {}\".format(self.r**2*3.14))\n",
    "    def perimeter(self):\n",
    "        return(\"le perimetre est {}\".format(self.r*2*3.14))\n",
    "    def isinside(self,x,y):\n",
    "        if ((x-self.C1)**2+(y-self.C2)**2<=self.r**2):\n",
    "            return True\n",
    "        else:\n",
    "            return False\n",
    "    \n",
    "\n",
    "\n",
    "mycircle=Circle(-6,3,11)\n",
    "\n",
    "print(mycircle.area())\n",
    "print(mycircle.perimeter())\n",
    "if(mycircle.isinside(-3,3)==True):\n",
    "    print(\"inside\")\n",
    "else:\n",
    "    print(\"outside\")"
   ]
  },
  {
   "cell_type": "code",
   "execution_count": 25,
   "id": "0249e2ad",
   "metadata": {},
   "outputs": [
    {
     "name": "stdout",
     "output_type": "stream",
     "text": [
      "1999999999999997500\n",
      "2000000000000000000\n"
     ]
    }
   ],
   "source": [
    "class Banque:\n",
    "    def __init__(self,solde):\n",
    "        self.solde = solde\n",
    "    def retrait(self, argent):\n",
    "        if(self.solde < argent):\n",
    "            print(\" Impossible d'effectuer l'opération. Solde insuffisant !\")\n",
    "        else:\n",
    "            self.solde = self.solde - argent\n",
    "            return self.solde\n",
    "    \n",
    "    \n",
    "    def depot(self, ar):\n",
    "        self.solde = self.solde +ar\n",
    "        return self.solde\n",
    "mybanque= Banque(2000000000000000000)\n",
    "print(mybanque.retrait(2500))\n",
    "print(mybanque.depot(2500))\n",
    "        \n",
    "        "
   ]
  },
  {
   "cell_type": "code",
   "execution_count": null,
   "id": "6e6816dc",
   "metadata": {},
   "outputs": [],
   "source": []
  }
 ],
 "metadata": {
  "kernelspec": {
   "display_name": "Python 3 (ipykernel)",
   "language": "python",
   "name": "python3"
  },
  "language_info": {
   "codemirror_mode": {
    "name": "ipython",
    "version": 3
   },
   "file_extension": ".py",
   "mimetype": "text/x-python",
   "name": "python",
   "nbconvert_exporter": "python",
   "pygments_lexer": "ipython3",
   "version": "3.9.12"
  }
 },
 "nbformat": 4,
 "nbformat_minor": 5
}
